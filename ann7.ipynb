{
 "cells": [
  {
   "cell_type": "code",
   "execution_count": 1,
   "metadata": {},
   "outputs": [],
   "source": [
    "import numpy as np"
   ]
  },
  {
   "cell_type": "code",
   "execution_count": 2,
   "metadata": {},
   "outputs": [],
   "source": [
    "def sigmoid(x):\n",
    "    return 1/(1+np.exp(-x))\n",
    "\n",
    "def sigmoidDerivative(x):\n",
    "    return x*(1-x)"
   ]
  },
  {
   "cell_type": "code",
   "execution_count": 3,
   "metadata": {},
   "outputs": [],
   "source": [
    "inputs = np.array([[0,0],[0,1],[1,0],[1,1]])\n",
    "outputs = np.array([[0],[1],[1],[0]])"
   ]
  },
  {
   "cell_type": "code",
   "execution_count": 4,
   "metadata": {},
   "outputs": [],
   "source": [
    "hiddenweight = np.random.uniform(size=(2,3))\n",
    "outputweight = np.random.uniform(size=(3,1))"
   ]
  },
  {
   "cell_type": "code",
   "execution_count": 5,
   "metadata": {},
   "outputs": [],
   "source": [
    "learning_rate= 0.7"
   ]
  },
  {
   "cell_type": "code",
   "execution_count": 8,
   "metadata": {},
   "outputs": [],
   "source": [
    "for i in range(45000):\n",
    "\n",
    "    hiddenActivation = sigmoid(np.dot(inputs,hiddenweight))\n",
    "    outputActivation = sigmoid(np.dot(hiddenActivation,outputweight))\n",
    "\n",
    "    error = outputs - outputActivation\n",
    "\n",
    "    outputErr = error * sigmoidDerivative(outputActivation)\n",
    "    hiddenErr = np.dot(outputErr,outputweight.T) * sigmoidDerivative(hiddenActivation)\n",
    "\n",
    "    outputweight += np.dot(hiddenActivation.T,outputErr) * learning_rate\n",
    "    hiddenweight += np.dot(inputs.T,hiddenErr) * learning_rate"
   ]
  },
  {
   "cell_type": "code",
   "execution_count": 9,
   "metadata": {},
   "outputs": [
    {
     "name": "stdout",
     "output_type": "stream",
     "text": [
      "[[0.01778368]\n",
      " [0.98923731]\n",
      " [0.98923733]\n",
      " [0.00310379]]\n"
     ]
    }
   ],
   "source": [
    "hiddenActivation = sigmoid(np.dot(inputs,hiddenweight))\n",
    "outputActivation = sigmoid(np.dot(hiddenActivation,outputweight))\n",
    "print(outputActivation)"
   ]
  }
 ],
 "metadata": {
  "kernelspec": {
   "display_name": "Python 3",
   "language": "python",
   "name": "python3"
  },
  "language_info": {
   "codemirror_mode": {
    "name": "ipython",
    "version": 3
   },
   "file_extension": ".py",
   "mimetype": "text/x-python",
   "name": "python",
   "nbconvert_exporter": "python",
   "pygments_lexer": "ipython3",
   "version": "3.12.3"
  }
 },
 "nbformat": 4,
 "nbformat_minor": 2
}
