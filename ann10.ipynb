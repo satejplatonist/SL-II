{
 "cells": [
  {
   "cell_type": "code",
   "execution_count": 6,
   "metadata": {},
   "outputs": [
    {
     "name": "stdout",
     "output_type": "stream",
     "text": [
      "WARNING:tensorflow:6 out of the last 6 calls to <function TensorFlowTrainer.make_predict_function.<locals>.one_step_on_data_distributed at 0x0000019FC87F7C40> triggered tf.function retracing. Tracing is expensive and the excessive number of tracings could be due to (1) creating @tf.function repeatedly in a loop, (2) passing tensors with different shapes, (3) passing Python objects instead of tensors. For (1), please define your @tf.function outside of the loop. For (2), @tf.function has reduce_retracing=True option that can avoid unnecessary retracing. For (3), please refer to https://www.tensorflow.org/guide/function#controlling_retracing and https://www.tensorflow.org/api_docs/python/tf/function for  more details.\n",
      "\u001b[1m1/1\u001b[0m \u001b[32m━━━━━━━━━━━━━━━━━━━━\u001b[0m\u001b[37m\u001b[0m \u001b[1m1s\u001b[0m 692ms/step\n",
      "[[('n09472597', 'volcano', 0.12697507), ('n09288635', 'geyser', 0.072060615), ('n02950826', 'cannon', 0.03297389)]]\n",
      "volcano: 12.70%\n",
      "geyser: 7.21%\n",
      "cannon: 3.30%\n"
     ]
    }
   ],
   "source": [
    "import tensorflow as tf\n",
    "from tensorflow.keras.preprocessing import image as keras_image\n",
    "from tensorflow.keras.applications.mobilenet_v2 import preprocess_input, decode_predictions\n",
    "\n",
    "# Load the pre-trained MobileNetV2 model with top layers\n",
    "model = tf.keras.applications.MobileNetV2(weights='imagenet', include_top=True)\n",
    "\n",
    "# Load image and preprocess it\n",
    "image_path = 'image.png'  # Ensure the file path is correct\n",
    "image = keras_image.load_img('image.png', target_size=(224, 224))\n",
    "image = keras_image.img_to_array(image)\n",
    "image = preprocess_input(image)\n",
    "image = tf.expand_dims(image, axis=0)\n",
    "\n",
    "# Run object classification\n",
    "predictions = model.predict(image)\n",
    "\n",
    "# Decode predictions to human-readable labels\n",
    "decoded_predictions = decode_predictions(predictions, top=3)\n",
    "print(decoded_predictions)\n",
    "\n",
    "# Print top predicted labels and confidences\n",
    "for _, label, confidence in decoded_predictions[0]:\n",
    "    print(f\"{label}: {confidence * 100:.2f}%\")"
   ]
  }
 ],
 "metadata": {
  "kernelspec": {
   "display_name": "Python 3",
   "language": "python",
   "name": "python3"
  },
  "language_info": {
   "codemirror_mode": {
    "name": "ipython",
    "version": 3
   },
   "file_extension": ".py",
   "mimetype": "text/x-python",
   "name": "python",
   "nbconvert_exporter": "python",
   "pygments_lexer": "ipython3",
   "version": "3.12.3"
  }
 },
 "nbformat": 4,
 "nbformat_minor": 2
}
