{
 "cells": [
  {
   "cell_type": "code",
   "execution_count": 1,
   "metadata": {},
   "outputs": [],
   "source": [
    "import numpy as np\n",
    "from prettytable import PrettyTable"
   ]
  },
  {
   "cell_type": "code",
   "execution_count": 13,
   "metadata": {},
   "outputs": [],
   "source": [
    "def ANDNOT(input,weights):\n",
    "    threshold=1\n",
    "    product = np.dot(input,weights)\n",
    "    if product == threshold:\n",
    "        if input[0]!=1 and input[1]!=0:\n",
    "            return 0\n",
    "        return 1\n",
    "    return 0\n"
   ]
  },
  {
   "cell_type": "code",
   "execution_count": 14,
   "metadata": {},
   "outputs": [],
   "source": [
    "inputs = []\n",
    "weigths = []\n",
    "outputs = []\n",
    "\n",
    "for i in range(0,5):\n",
    "    inp = np.random.choice([0,1],2)\n",
    "    wgth = np.random.choice([-1,1],2)\n",
    "    inputs.append(inp)\n",
    "    weigths.append(wgth)\n",
    "    outputs.append(ANDNOT(inp,wgth))"
   ]
  },
  {
   "cell_type": "code",
   "execution_count": 15,
   "metadata": {},
   "outputs": [
    {
     "name": "stdout",
     "output_type": "stream",
     "text": [
      "+-------+---------+--------+\n",
      "| input |  weight | ANDNOT |\n",
      "+-------+---------+--------+\n",
      "| [0 0] |  [1 1]  |   0    |\n",
      "| [1 1] | [-1 -1] |   0    |\n",
      "| [0 0] |  [1 1]  |   0    |\n",
      "| [1 0] | [-1 -1] |   0    |\n",
      "| [1 0] | [-1 -1] |   0    |\n",
      "+-------+---------+--------+\n"
     ]
    }
   ],
   "source": [
    "table = PrettyTable()\n",
    "table.field_names = ['input','weight','ANDNOT']\n",
    "table.add_rows([\n",
    "    [inputs[0],weigths[0],outputs[0]],\n",
    "    [inputs[1],weigths[1],outputs[1]],\n",
    "    [inputs[2],weigths[2],outputs[2]],\n",
    "    [inputs[3],weigths[3],outputs[3]],\n",
    "    [inputs[4],weigths[4],outputs[4]]\n",
    "])\n",
    "\n",
    "print(table.get_string(feilds=['input','weight','ANDNOT']) )"
   ]
  }
 ],
 "metadata": {
  "kernelspec": {
   "display_name": "Python 3",
   "language": "python",
   "name": "python3"
  },
  "language_info": {
   "codemirror_mode": {
    "name": "ipython",
    "version": 3
   },
   "file_extension": ".py",
   "mimetype": "text/x-python",
   "name": "python",
   "nbconvert_exporter": "python",
   "pygments_lexer": "ipython3",
   "version": "3.12.3"
  }
 },
 "nbformat": 4,
 "nbformat_minor": 2
}
