{
 "cells": [
  {
   "cell_type": "code",
   "execution_count": 1,
   "metadata": {},
   "outputs": [
    {
     "name": "stdout",
     "output_type": "stream",
     "text": [
      "Stored Patterns:\n",
      "Pattern 1: [-1  1  1  1]\n",
      "Pattern 2: [ 1 -1  1 -1]\n",
      "Pattern 3: [-1 -1  1  1]\n",
      "Pattern 4: [-1  1 -1 -1]\n",
      "\n",
      "Recalled Patterns:\n",
      "Input Pattern: [-1  1  1  1], Recalled Pattern: [-1.  1.  1.  1.]\n",
      "Input Pattern: [ 1  1 -1 -1], Recalled Pattern: [ 1.  1. -1. -1.]\n",
      "Input Pattern: [ 1 -1 -1 -1], Recalled Pattern: [ 1. -1. -1. -1.]\n"
     ]
    }
   ],
   "source": [
    "import numpy as np\n",
    "\n",
    "class HopfieldNetwork:\n",
    "    def __init__(self, num_neurons):\n",
    "        self.num_neurons = num_neurons\n",
    "        self.weights = np.zeros((num_neurons, num_neurons))\n",
    "\n",
    "    def train(self, patterns):\n",
    "        for pattern in patterns:\n",
    "            pattern = pattern.reshape((1, self.num_neurons))\n",
    "            weight_update = np.dot(pattern.T, pattern)\n",
    "            np.fill_diagonal(weight_update, 0)  # Set diagonal elements to 0 to prevent self-connections\n",
    "            self.weights += weight_update\n",
    "\n",
    "    def recall(self, pattern, max_iterations=100):\n",
    "        pattern = pattern.reshape((1, self.num_neurons))\n",
    "        iterations = 0\n",
    "\n",
    "        while iterations < max_iterations:\n",
    "            output = np.sign(np.dot(pattern, self.weights))\n",
    "            if np.array_equal(pattern, output):\n",
    "                break\n",
    "            pattern = output\n",
    "            iterations += 1\n",
    "\n",
    "        return pattern\n",
    "\n",
    "# Example usage\n",
    "patterns = np.array([\n",
    "    [-1, 1, 1, 1],\n",
    "    [1, -1, 1, -1],\n",
    "    [-1, -1, 1, 1],\n",
    "    [-1, 1, -1, -1]\n",
    "])\n",
    "\n",
    "hopfield = HopfieldNetwork(num_neurons=4)\n",
    "hopfield.train(patterns)\n",
    "\n",
    "test_patterns = np.array([\n",
    "    [-1, 1, 1, 1],\n",
    "    [1, 1, -1, -1],\n",
    "    [1, -1, -1, -1]\n",
    "])\n",
    "\n",
    "print(\"Stored Patterns:\")\n",
    "for i, pattern in enumerate(patterns):\n",
    "    print(f\"Pattern {i + 1}: {pattern}\")\n",
    "\n",
    "print(\"\\nRecalled Patterns:\")\n",
    "for pattern in test_patterns:\n",
    "    recalled_pattern = hopfield.recall(pattern)\n",
    "    print(f\"Input Pattern: {pattern}, Recalled Pattern: {recalled_pattern.flatten()}\")"
   ]
  }
 ],
 "metadata": {
  "kernelspec": {
   "display_name": "Python 3",
   "language": "python",
   "name": "python3"
  },
  "language_info": {
   "codemirror_mode": {
    "name": "ipython",
    "version": 3
   },
   "file_extension": ".py",
   "mimetype": "text/x-python",
   "name": "python",
   "nbconvert_exporter": "python",
   "pygments_lexer": "ipython3",
   "version": "3.12.3"
  }
 },
 "nbformat": 4,
 "nbformat_minor": 2
}
